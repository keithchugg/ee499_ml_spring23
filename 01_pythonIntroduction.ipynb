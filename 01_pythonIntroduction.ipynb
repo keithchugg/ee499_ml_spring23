{
 "cells": [
  {
   "attachments": {},
   "cell_type": "markdown",
   "metadata": {},
   "source": [
    "**Instructors**: Prof. Keith Chugg (chugg@usc.edu) & Prof. Antonio Ortega (aortega@usc.edu)\n",
    "\n",
    "**Teaching Assistant**: Alexios Rustom (arustom@usc.edu)\n",
    "\n",
    "**Notebooks**: Written by Alexios Rustom (arustom@usc.edu) and Prof. Keith Chugg (chugg@usc.edu)"
   ]
  },
  {
   "attachments": {},
   "cell_type": "markdown",
   "metadata": {},
   "source": [
    "# Python Introduction\n",
    "A brief introduction to operations in Python and the NumPy scientific computing package within Python."
   ]
  },
  {
   "cell_type": "markdown",
   "metadata": {},
   "source": [
    "Python is the programming language we will be using in this course. It has a set of numeric data types and arithmetic operations. NumPy is a library that extends the base capabilities of python to add a richer data set including more numeric types, vectors, matrices, and many matrix functions. NumPy and python  work together fairly seamlessly. Python arithmetic operators work on NumPy data types and many NumPy functions will accept python data types."
   ]
  },
  {
   "attachments": {},
   "cell_type": "markdown",
   "metadata": {},
   "source": [
    "For more information about Python Documentation: [Python Documentation](https://docs.python.org/3/)\n",
    "\n",
    "Unlike Matlab, in Python you must load the libraries/packages that you want to use that provide features beyond the basic Python functionalities.  This notebook uses the following:"
   ]
  },
  {
   "cell_type": "code",
   "execution_count": 3,
   "metadata": {},
   "outputs": [],
   "source": [
    "import numpy as np \n",
    "import math\n",
    "import time\n",
    "import matplotlib.pyplot as plt"
   ]
  },
  {
   "cell_type": "markdown",
   "metadata": {},
   "source": [
    "## Operations on Numbers"
   ]
  },
  {
   "cell_type": "code",
   "execution_count": 2,
   "metadata": {},
   "outputs": [
    {
     "name": "stdout",
     "output_type": "stream",
     "text": [
      "The type of x is <class 'int'>\n",
      "1 + 2 is 3\n"
     ]
    }
   ],
   "source": [
    "x1 = 1\n",
    "x2 = 2\n",
    "x = x1 + x2\n",
    "print('The type of x is {}'.format(type(x)))\n",
    "print('{} + {} is {}'.format(x1,x2,x))"
   ]
  },
  {
   "attachments": {},
   "cell_type": "markdown",
   "metadata": {},
   "source": [
    "In notebooks, the variables from previous cells hold their value in future cells.  Here are a few more ways to print `x1` and `x2`:"
   ]
  },
  {
   "cell_type": "code",
   "execution_count": null,
   "metadata": {},
   "outputs": [],
   "source": [
    "print(f'x1 = {x1}\\tx2 = {x2}\\tx = x1 + x2 = {x}') ## this is an f-string, added in Python 3: https://realpython.com/python-f-strings/\n",
    "print('x1 = ', x1, 'x2 = ', x2, 'x = x1 + x2 = ', x)"
   ]
  },
  {
   "cell_type": "code",
   "execution_count": 3,
   "metadata": {},
   "outputs": [
    {
     "name": "stdout",
     "output_type": "stream",
     "text": [
      "The product of 17 and 3 is 51\n"
     ]
    }
   ],
   "source": [
    "y1=17\n",
    "y2=3\n",
    "y = y1*y2\n",
    "print('The product of {} and {} is {}'.format(y1,y2,y))"
   ]
  },
  {
   "cell_type": "code",
   "execution_count": 4,
   "metadata": {},
   "outputs": [
    {
     "name": "stdout",
     "output_type": "stream",
     "text": [
      "The ratio of 10 and 3 is 3.333\n",
      "The smallest integer greater than 3.33 is 4\n",
      "The greatest integer greater than 3.3 is 3\n"
     ]
    }
   ],
   "source": [
    "z1=10\n",
    "z2=3\n",
    "z = z1/z2\n",
    "print('The ratio of {} and {} is {:.3f}'.format(z1,z2,z))\n",
    "print(\"The smallest integer greater than {:.2f} is {}\".format(z,math.ceil(z)))\n",
    "print(\"The greatest integer greater than {:.1f} is {}\".format(z,math.floor(z)))"
   ]
  },
  {
   "attachments": {},
   "cell_type": "markdown",
   "metadata": {},
   "source": [
    "Starting in Python 3, interger division produces a real if the ratio is not an integer (in Python 2, `10/3` would produce `3`).  For integer division, use `//`"
   ]
  },
  {
   "cell_type": "code",
   "execution_count": 5,
   "metadata": {},
   "outputs": [
    {
     "name": "stdout",
     "output_type": "stream",
     "text": [
      "The floor devision of 10 and 3 is 3\n"
     ]
    }
   ],
   "source": [
    "x=10\n",
    "y=3\n",
    "z = x//y\n",
    "print('The floor devision of {} and {} is {}'.format(x,y,z))"
   ]
  },
  {
   "cell_type": "code",
   "execution_count": 6,
   "metadata": {},
   "outputs": [
    {
     "name": "stdout",
     "output_type": "stream",
     "text": [
      "10 Modulus 3 is 1\n"
     ]
    }
   ],
   "source": [
    "x=10\n",
    "y=3\n",
    "z = x%y\n",
    "print('{} mod {} is {}'.format(x,y,z))"
   ]
  },
  {
   "cell_type": "code",
   "execution_count": 7,
   "metadata": {},
   "outputs": [
    {
     "name": "stdout",
     "output_type": "stream",
     "text": [
      "10 Modulus 2 is 0\n"
     ]
    }
   ],
   "source": [
    "x=10\n",
    "y=2\n",
    "z = x%y\n",
    "print('{} mod {} is {}'.format(x,y,z))"
   ]
  },
  {
   "cell_type": "markdown",
   "metadata": {},
   "source": [
    "## Logical Operators"
   ]
  },
  {
   "cell_type": "code",
   "execution_count": 8,
   "metadata": {},
   "outputs": [
    {
     "data": {
      "text/plain": [
       "True"
      ]
     },
     "execution_count": 8,
     "metadata": {},
     "output_type": "execute_result"
    }
   ],
   "source": [
    "True"
   ]
  },
  {
   "cell_type": "code",
   "execution_count": 9,
   "metadata": {},
   "outputs": [
    {
     "data": {
      "text/plain": [
       "False"
      ]
     },
     "execution_count": 9,
     "metadata": {},
     "output_type": "execute_result"
    }
   ],
   "source": [
    "False"
   ]
  },
  {
   "cell_type": "code",
   "execution_count": 10,
   "metadata": {},
   "outputs": [
    {
     "data": {
      "text/plain": [
       "False"
      ]
     },
     "execution_count": 10,
     "metadata": {},
     "output_type": "execute_result"
    }
   ],
   "source": [
    "not True"
   ]
  },
  {
   "cell_type": "code",
   "execution_count": 11,
   "metadata": {},
   "outputs": [
    {
     "data": {
      "text/plain": [
       "True"
      ]
     },
     "execution_count": 11,
     "metadata": {},
     "output_type": "execute_result"
    }
   ],
   "source": [
    "True or False"
   ]
  },
  {
   "cell_type": "code",
   "execution_count": 12,
   "metadata": {},
   "outputs": [
    {
     "data": {
      "text/plain": [
       "True"
      ]
     },
     "execution_count": 12,
     "metadata": {},
     "output_type": "execute_result"
    }
   ],
   "source": [
    "(True or not False) and (1 and not 0)"
   ]
  },
  {
   "cell_type": "code",
   "execution_count": 13,
   "metadata": {},
   "outputs": [
    {
     "data": {
      "text/plain": [
       "False"
      ]
     },
     "execution_count": 13,
     "metadata": {},
     "output_type": "execute_result"
    }
   ],
   "source": [
    "1 == 2"
   ]
  },
  {
   "cell_type": "code",
   "execution_count": 14,
   "metadata": {},
   "outputs": [
    {
     "data": {
      "text/plain": [
       "True"
      ]
     },
     "execution_count": 14,
     "metadata": {},
     "output_type": "execute_result"
    }
   ],
   "source": [
    "1<=2"
   ]
  },
  {
   "cell_type": "markdown",
   "metadata": {},
   "source": [
    "## If, elif, else Statements"
   ]
  },
  {
   "cell_type": "code",
   "execution_count": 15,
   "metadata": {},
   "outputs": [
    {
     "name": "stdout",
     "output_type": "stream",
     "text": [
      "x is greater than y\n"
     ]
    }
   ],
   "source": [
    "x=3\n",
    "y=2\n",
    "if (x<y):\n",
    "    print('x is less than y')\n",
    "elif (x==y):\n",
    "    print('x is equal to y')\n",
    "else:\n",
    "    print('x is greater than y')"
   ]
  },
  {
   "cell_type": "markdown",
   "metadata": {},
   "source": [
    "## Range"
   ]
  },
  {
   "cell_type": "code",
   "execution_count": 16,
   "metadata": {},
   "outputs": [
    {
     "data": {
      "text/plain": [
       "range(0, 5)"
      ]
     },
     "execution_count": 16,
     "metadata": {},
     "output_type": "execute_result"
    }
   ],
   "source": [
    "range(0,5)"
   ]
  },
  {
   "cell_type": "markdown",
   "metadata": {},
   "source": [
    "## For Loop"
   ]
  },
  {
   "cell_type": "code",
   "execution_count": 17,
   "metadata": {},
   "outputs": [
    {
     "name": "stdout",
     "output_type": "stream",
     "text": [
      "0\n",
      "1\n",
      "2\n"
     ]
    }
   ],
   "source": [
    "for i in range(0,3):\n",
    "    print(i)"
   ]
  },
  {
   "cell_type": "code",
   "execution_count": 1,
   "metadata": {},
   "outputs": [
    {
     "name": "stdout",
     "output_type": "stream",
     "text": [
      "1\n",
      "4\n",
      "100\n"
     ]
    }
   ],
   "source": [
    "for i in [1, 4, 100]:\n",
    "    print(i)"
   ]
  },
  {
   "cell_type": "markdown",
   "metadata": {},
   "source": [
    "## While Loop"
   ]
  },
  {
   "cell_type": "code",
   "execution_count": 18,
   "metadata": {},
   "outputs": [
    {
     "name": "stdout",
     "output_type": "stream",
     "text": [
      "0\n",
      "1\n",
      "2\n"
     ]
    }
   ],
   "source": [
    "i = 0\n",
    "while (i<3):\n",
    "    print(i)\n",
    "    i = i+1"
   ]
  },
  {
   "cell_type": "markdown",
   "metadata": {},
   "source": [
    "## Operations on Lists"
   ]
  },
  {
   "cell_type": "code",
   "execution_count": 19,
   "metadata": {},
   "outputs": [
    {
     "name": "stdout",
     "output_type": "stream",
     "text": [
      "x =  [0, 1, 2, 3, 4]\n",
      "The type of x is <class 'list'>\n"
     ]
    }
   ],
   "source": [
    "x = list(range(0,5))\n",
    "print('x = ',x)\n",
    "print('The type of x is {}'.format(type(x)))"
   ]
  },
  {
   "cell_type": "code",
   "execution_count": 20,
   "metadata": {},
   "outputs": [
    {
     "name": "stdout",
     "output_type": "stream",
     "text": [
      "x =  [1, 7, 17]\n",
      "The type of x is <class 'list'>\n"
     ]
    }
   ],
   "source": [
    "x = [1,7,17]\n",
    "print('x = ',x)\n",
    "print('The type of x is {}'.format(type(x)))"
   ]
  },
  {
   "cell_type": "code",
   "execution_count": 21,
   "metadata": {},
   "outputs": [
    {
     "name": "stdout",
     "output_type": "stream",
     "text": [
      "The attributes of a list are:  ['__add__', '__class__', '__class_getitem__', '__contains__', '__delattr__', '__delitem__', '__dir__', '__doc__', '__eq__', '__format__', '__ge__', '__getattribute__', '__getitem__', '__gt__', '__hash__', '__iadd__', '__imul__', '__init__', '__init_subclass__', '__iter__', '__le__', '__len__', '__lt__', '__mul__', '__ne__', '__new__', '__reduce__', '__reduce_ex__', '__repr__', '__reversed__', '__rmul__', '__setattr__', '__setitem__', '__sizeof__', '__str__', '__subclasshook__', 'append', 'clear', 'copy', 'count', 'extend', 'index', 'insert', 'pop', 'remove', 'reverse', 'sort']\n"
     ]
    }
   ],
   "source": [
    "print('The attributes of a list are: ', dir(x))"
   ]
  },
  {
   "cell_type": "code",
   "execution_count": 22,
   "metadata": {},
   "outputs": [
    {
     "name": "stdout",
     "output_type": "stream",
     "text": [
      "y =  [1, 7, 17]\n"
     ]
    }
   ],
   "source": [
    "#Create an Empty List\n",
    "y = []\n",
    "#Append\n",
    "y.append(1)\n",
    "y.append(7)\n",
    "y.append(17)\n",
    "print('y = ',y)"
   ]
  },
  {
   "cell_type": "code",
   "execution_count": 23,
   "metadata": {},
   "outputs": [
    {
     "name": "stdout",
     "output_type": "stream",
     "text": [
      "The first element of y is:  1\n",
      "The last element of y is:  17\n"
     ]
    }
   ],
   "source": [
    "print('The first element of y is: ', y[0])\n",
    "print('The last element of y is: ', y[-1])"
   ]
  },
  {
   "cell_type": "code",
   "execution_count": 24,
   "metadata": {},
   "outputs": [
    {
     "name": "stdout",
     "output_type": "stream",
     "text": [
      "y =  ['Hello', 1, 7, 17]\n"
     ]
    }
   ],
   "source": [
    "y.insert(0,'Hello')\n",
    "print('y = ',y)\n"
   ]
  },
  {
   "cell_type": "code",
   "execution_count": 25,
   "metadata": {},
   "outputs": [
    {
     "name": "stdout",
     "output_type": "stream",
     "text": [
      "y =  ['Hello', 1, 7, 'Hello Again', 17]\n"
     ]
    }
   ],
   "source": [
    "y.insert(3,'Hello Again')\n",
    "print('y = ',y)"
   ]
  },
  {
   "cell_type": "code",
   "execution_count": 26,
   "metadata": {},
   "outputs": [
    {
     "name": "stdout",
     "output_type": "stream",
     "text": [
      "y =  ['Hello', 1, 7, 'Hello Again', 17, 3, 4]\n"
     ]
    }
   ],
   "source": [
    "y.extend([3, 4])\n",
    "print('y = ',y)"
   ]
  },
  {
   "cell_type": "code",
   "execution_count": 27,
   "metadata": {},
   "outputs": [
    {
     "name": "stdout",
     "output_type": "stream",
     "text": [
      "y =  [1, 7, 'Hello Again', 17, 3, 4]\n"
     ]
    }
   ],
   "source": [
    "del y[0]\n",
    "print('y = ',y)"
   ]
  },
  {
   "cell_type": "code",
   "execution_count": 28,
   "metadata": {},
   "outputs": [
    {
     "name": "stdout",
     "output_type": "stream",
     "text": [
      "y =  [1, 7, 'Hello Again', 17, 3, 4, 'Hello Again']\n"
     ]
    }
   ],
   "source": [
    "y.append('Hello Again')\n",
    "print('y = ',y)"
   ]
  },
  {
   "cell_type": "code",
   "execution_count": 29,
   "metadata": {},
   "outputs": [
    {
     "name": "stdout",
     "output_type": "stream",
     "text": [
      "y =  [1, 7, 17, 3, 4, 'Hello Again']\n"
     ]
    }
   ],
   "source": [
    "y.remove('Hello Again')\n",
    "print('y = ',y)"
   ]
  },
  {
   "cell_type": "code",
   "execution_count": 30,
   "metadata": {},
   "outputs": [
    {
     "name": "stdout",
     "output_type": "stream",
     "text": [
      "y =  [1, 7, 17, 3, 4]\n"
     ]
    }
   ],
   "source": [
    "y.remove('Hello Again')\n",
    "print('y = ',y)"
   ]
  },
  {
   "cell_type": "code",
   "execution_count": 31,
   "metadata": {},
   "outputs": [
    {
     "name": "stdout",
     "output_type": "stream",
     "text": [
      "The reverse is:  [4, 3, 17, 7, 1]\n"
     ]
    }
   ],
   "source": [
    "y.reverse()\n",
    "print('The reverse is: ', y)"
   ]
  },
  {
   "cell_type": "code",
   "execution_count": 32,
   "metadata": {},
   "outputs": [
    {
     "name": "stdout",
     "output_type": "stream",
     "text": [
      "The sorted (ascending) list is:  [1, 3, 4, 7, 17]\n"
     ]
    }
   ],
   "source": [
    "y.sort()\n",
    "print('The sorted (ascending) list is: ', y)"
   ]
  },
  {
   "cell_type": "code",
   "execution_count": 33,
   "metadata": {},
   "outputs": [
    {
     "name": "stdout",
     "output_type": "stream",
     "text": [
      "The sorted (descending) list is:  [17, 7, 4, 3, 1]\n"
     ]
    }
   ],
   "source": [
    "y.sort(reverse=True)\n",
    "print('The sorted (descending) list is: ', y)"
   ]
  },
  {
   "cell_type": "code",
   "execution_count": 34,
   "metadata": {},
   "outputs": [
    {
     "name": "stdout",
     "output_type": "stream",
     "text": [
      "The minimum of y is:  1\n",
      "The maximum of y is:  17\n",
      "The index of y[0] is:  0\n",
      "The sum of y is:  32\n"
     ]
    }
   ],
   "source": [
    "print('The minimum of y is: ', min(y))\n",
    "print('The maximum of y is: ', max(y))\n",
    "print('The index of y[0] is: ', y.index(y[0]))\n",
    "print('The sum of y is: ', sum(y))"
   ]
  },
  {
   "cell_type": "code",
   "execution_count": 35,
   "metadata": {},
   "outputs": [
    {
     "name": "stdout",
     "output_type": "stream",
     "text": [
      "y = [17, 7, 4, 3, 1, 'Hello']\n"
     ]
    }
   ],
   "source": [
    "y.append('Hello')\n",
    "print('y =', y)"
   ]
  },
  {
   "cell_type": "code",
   "execution_count": 36,
   "metadata": {},
   "outputs": [
    {
     "name": "stdout",
     "output_type": "stream",
     "text": [
      "True\n"
     ]
    }
   ],
   "source": [
    "print('Hello' in y)"
   ]
  },
  {
   "cell_type": "markdown",
   "metadata": {},
   "source": [
    "## List Comprehension"
   ]
  },
  {
   "cell_type": "code",
   "execution_count": 37,
   "metadata": {},
   "outputs": [
    {
     "name": "stdout",
     "output_type": "stream",
     "text": [
      "Alphabet letters using for loop: \n",
      " ['a', 'b', 'c', 'd', 'e', 'f', 'g', 'h', 'i', 'j', 'k', 'l', 'm', 'n', 'o', 'p', 'q', 'r', 's', 't', 'u', 'v', 'w', 'x', 'y', 'z']\n"
     ]
    }
   ],
   "source": [
    "alphabet_letters = []\n",
    "\n",
    "for letter in 'abcdefghijklmnopqrstuvwxyz':\n",
    "    alphabet_letters.append(letter)\n",
    "\n",
    "print('Alphabet letters using for loop: \\n', alphabet_letters)"
   ]
  },
  {
   "cell_type": "code",
   "execution_count": 38,
   "metadata": {},
   "outputs": [
    {
     "name": "stdout",
     "output_type": "stream",
     "text": [
      "Alphabet letters using List Comprehension: \n",
      " ['a', 'b', 'c', 'd', 'e', 'f', 'g', 'h', 'i', 'j', 'k', 'l', 'm', 'n', 'o', 'p', 'q', 'r', 's', 't', 'u', 'v', 'w', 'x', 'y', 'z']\n"
     ]
    }
   ],
   "source": [
    "alphabet_letters_new = [ letter for letter in 'abcdefghijklmnopqrstuvwxyz' ]\n",
    "print('Alphabet letters using List Comprehension: \\n', alphabet_letters_new)"
   ]
  },
  {
   "cell_type": "code",
   "execution_count": 39,
   "metadata": {},
   "outputs": [
    {
     "name": "stdout",
     "output_type": "stream",
     "text": [
      "Duration For loop: 6907.7294 ms \n",
      "Duration For List comprehension: 3010.4735 ms \n"
     ]
    }
   ],
   "source": [
    "tic = time.time()  # capture start time\n",
    "list = []\n",
    "upper_limit = 100000000\n",
    "for integer in range(0,upper_limit):\n",
    "    list.append(integer)\n",
    "toc = time.time()  # capture end time\n",
    "print(f\"Duration For loop: {1000*(toc-tic):.4f} ms \")\n",
    "\n",
    "lst = []\n",
    "tic = time.time()\n",
    "lst = [integer for integer in range(upper_limit)]\n",
    "toc = time.time()\n",
    "print(f\"Duration For List comprehension: {1000*(toc-tic):.4f} ms \")\n"
   ]
  },
  {
   "cell_type": "markdown",
   "metadata": {},
   "source": [
    "## Dictionary"
   ]
  },
  {
   "cell_type": "code",
   "execution_count": 40,
   "metadata": {},
   "outputs": [
    {
     "name": "stdout",
     "output_type": "stream",
     "text": [
      "4\n"
     ]
    }
   ],
   "source": [
    "# A dictionary stores a list of (key, value) pairs\n",
    "animal_legs = {'cat': 4, 'dog': 4, 'fish': 0, 'bird': 2, 'spider': 8}\n",
    "print(animal_legs['dog'])"
   ]
  },
  {
   "cell_type": "code",
   "execution_count": 41,
   "metadata": {},
   "outputs": [
    {
     "name": "stdout",
     "output_type": "stream",
     "text": [
      "A cat has 4 legs.\n",
      "A dog has 4 legs.\n",
      "A fish has 0 legs.\n",
      "A bird has 2 legs.\n",
      "A spider has 8 legs.\n"
     ]
    }
   ],
   "source": [
    "for k, v in animal_legs.items():\n",
    "    print(\"A {} has {} legs.\".format(k,v))"
   ]
  },
  {
   "cell_type": "markdown",
   "metadata": {},
   "source": [
    "- ints, floats, tuples, strings are immutables\n",
    "- lists, dictionaries are mutables"
   ]
  },
  {
   "cell_type": "markdown",
   "metadata": {},
   "source": [
    "## Functions"
   ]
  },
  {
   "cell_type": "code",
   "execution_count": 42,
   "metadata": {},
   "outputs": [],
   "source": [
    "def my_function(major):\n",
    "    print(\"Hello, I am an undegraduate student in\", major)"
   ]
  },
  {
   "cell_type": "code",
   "execution_count": 43,
   "metadata": {},
   "outputs": [
    {
     "name": "stdout",
     "output_type": "stream",
     "text": [
      "Hello, I am an undegraduate student in Electrical & Computer Engineering\n"
     ]
    }
   ],
   "source": [
    "my_function('Electrical & Computer Engineering')"
   ]
  },
  {
   "cell_type": "code",
   "execution_count": 44,
   "metadata": {},
   "outputs": [
    {
     "name": "stdout",
     "output_type": "stream",
     "text": [
      "Hello, I am an undegraduate student in Computer Science\n"
     ]
    }
   ],
   "source": [
    "my_function('Computer Science')"
   ]
  },
  {
   "cell_type": "markdown",
   "metadata": {},
   "source": [
    "In Python, arguments of a function are passed by assignment which behave differently for immutables and mutables."
   ]
  },
  {
   "cell_type": "code",
   "execution_count": 45,
   "metadata": {},
   "outputs": [
    {
     "name": "stdout",
     "output_type": "stream",
     "text": [
      "The original list is: ['A', 'C', 'D']\n",
      "In the funtion: It is changed to\n",
      " ['A', 'C', 'D', 'E']\n",
      "Outside the function: It is changed to\n",
      " ['A', 'C', 'D', 'E']\n"
     ]
    }
   ],
   "source": [
    "x = ['A', 'C', 'D'] # Lists are mutables\n",
    "\n",
    "def change_list(the_list):\n",
    "    print(\"The original list is:\",the_list)\n",
    "    the_list.append('E')\n",
    "    print(\"In the funtion: It is changed to\\n\", the_list)\n",
    "    \n",
    "change_list(x)\n",
    "print(\"Outside the function: It is changed to\\n\", x)"
   ]
  },
  {
   "cell_type": "code",
   "execution_count": 46,
   "metadata": {},
   "outputs": [
    {
     "name": "stdout",
     "output_type": "stream",
     "text": [
      "The original string is: This is a string.\n",
      "In the funtion: It is changed to\n",
      " This is a string. ABCDE.\n",
      "Outside the funtion: It is changed to\n",
      " This is a string.\n"
     ]
    }
   ],
   "source": [
    "x = \"This is a string.\" # Strings are immutables\n",
    "\n",
    "def change_string(the_string):\n",
    "    print(\"The original string is:\",the_string)\n",
    "    the_string = the_string + \" ABCDE.\"\n",
    "    print(\"In the funtion: It is changed to\\n\", the_string)\n",
    "    \n",
    "change_string(x)\n",
    "print(\"Outside the funtion: It is changed to\\n\", x)"
   ]
  },
  {
   "cell_type": "markdown",
   "metadata": {},
   "source": [
    "To avoid unwanted change on mutables, we use deep copy. "
   ]
  },
  {
   "cell_type": "code",
   "execution_count": 47,
   "metadata": {},
   "outputs": [
    {
     "name": "stdout",
     "output_type": "stream",
     "text": [
      "x is [31, 13, 22].\n",
      "x2 is [31, 13, 22, 0].\n",
      "x is [31, 13, 22, 0].\n",
      "x3 is [31, 13, 22, 0].\n"
     ]
    }
   ],
   "source": [
    "x = [31, 13, 22]\n",
    "x2 = x.copy()\n",
    "x2.append(0)\n",
    "print(\"x is {}.\\nx2 is {}.\".format(x,x2))\n",
    "\n",
    "x3 = x\n",
    "x3.append(0)\n",
    "print(\"x is {}.\\nx3 is {}.\".format(x,x3))"
   ]
  },
  {
   "cell_type": "markdown",
   "metadata": {},
   "source": [
    "## Python Lambda"
   ]
  },
  {
   "cell_type": "code",
   "execution_count": 48,
   "metadata": {},
   "outputs": [
    {
     "name": "stdout",
     "output_type": "stream",
     "text": [
      "15\n"
     ]
    }
   ],
   "source": [
    "x = lambda a : a + 10\n",
    "print(x(5))"
   ]
  },
  {
   "cell_type": "code",
   "execution_count": 49,
   "metadata": {},
   "outputs": [
    {
     "data": {
      "text/plain": [
       "13"
      ]
     },
     "execution_count": 49,
     "metadata": {},
     "output_type": "execute_result"
    }
   ],
   "source": [
    "x = lambda a, b, c : a + b + c\n",
    "x(5, 6, 2)"
   ]
  },
  {
   "cell_type": "markdown",
   "metadata": {},
   "source": [
    "The power of lambda is better shown when you use them as an anonymous function inside another function.\n",
    "\n",
    "Say you have a function definition that takes one argument, and that argument will be multiplied with an unknown number:"
   ]
  },
  {
   "cell_type": "code",
   "execution_count": 50,
   "metadata": {},
   "outputs": [],
   "source": [
    "def myfunc(n):\n",
    "  return lambda a : a * n"
   ]
  },
  {
   "cell_type": "code",
   "execution_count": 51,
   "metadata": {},
   "outputs": [
    {
     "name": "stdout",
     "output_type": "stream",
     "text": [
      "22\n"
     ]
    }
   ],
   "source": [
    "mydoubler = myfunc(2)\n",
    "print(mydoubler(11))"
   ]
  },
  {
   "cell_type": "code",
   "execution_count": 52,
   "metadata": {},
   "outputs": [
    {
     "name": "stdout",
     "output_type": "stream",
     "text": [
      "33\n"
     ]
    }
   ],
   "source": [
    "mytripler = myfunc(3)\n",
    "print(mytripler(11))"
   ]
  },
  {
   "cell_type": "markdown",
   "metadata": {},
   "source": [
    "## Numpy Arrays"
   ]
  },
  {
   "cell_type": "code",
   "execution_count": 53,
   "metadata": {},
   "outputs": [
    {
     "name": "stdout",
     "output_type": "stream",
     "text": [
      "np.zeros(4) :   a = [0. 0. 0. 0. 0. 0. 0. 0. 0. 0.], shape of a= (10,), data type of a = float64\n"
     ]
    }
   ],
   "source": [
    "# NumPy routines which allocate memory and fill arrays with value\n",
    "a = np.zeros(10);                \n",
    "print(f\"np.zeros(4) :   a = {a}, shape of a= {a.shape}, data type of a = {a.dtype}\")"
   ]
  },
  {
   "cell_type": "code",
   "execution_count": 54,
   "metadata": {},
   "outputs": [
    {
     "name": "stdout",
     "output_type": "stream",
     "text": [
      "Type of a:  <class 'numpy.ndarray'>\n"
     ]
    }
   ],
   "source": [
    "print('Type of a: ', type(a))"
   ]
  },
  {
   "cell_type": "code",
   "execution_count": 55,
   "metadata": {},
   "outputs": [
    {
     "name": "stdout",
     "output_type": "stream",
     "text": [
      "np.ones(1,2) :  a = [[1. 1.]], shape of a = (1, 2), data type of a = float64\n"
     ]
    }
   ],
   "source": [
    "a = np.ones((1,2));             print(f\"np.ones(1,2) :  a = {a}, shape of a = {a.shape}, data type of a = {a.dtype}\")"
   ]
  },
  {
   "cell_type": "code",
   "execution_count": 56,
   "metadata": {},
   "outputs": [
    {
     "name": "stdout",
     "output_type": "stream",
     "text": [
      "np.random.rand(3): a = [0.75163266 0.02310556 0.5136052 ], shape of a = (3,), data type of a = float64\n"
     ]
    }
   ],
   "source": [
    "a = np.random.rand(3); print(f\"np.random.rand(3): a = {a}, shape of a = {a.shape}, data type of a = {a.dtype}\")"
   ]
  },
  {
   "cell_type": "code",
   "execution_count": 57,
   "metadata": {},
   "outputs": [
    {
     "name": "stdout",
     "output_type": "stream",
     "text": [
      "np.random.randint(3, 0, 10): a = [2 9 3], shape of a = (3,), data type of a = int64\n"
     ]
    }
   ],
   "source": [
    "a = np.random.randint(1, 10, 3); print(f\"np.random.randint(3, 0, 10): a = {a}, shape of a = {a.shape}, data type of a = {a.dtype}\")"
   ]
  },
  {
   "cell_type": "code",
   "execution_count": 58,
   "metadata": {},
   "outputs": [
    {
     "name": "stdout",
     "output_type": "stream",
     "text": [
      "a1:  [9 6 4]\n",
      "a2:  [5 3 1]\n"
     ]
    }
   ],
   "source": [
    "a1 = np.random.randint(1, 10, 3)\n",
    "print('a1: ', a1)\n",
    "a2 = np.random.randint(1, 10, 3)\n",
    "print('a2: ', a2)"
   ]
  },
  {
   "cell_type": "code",
   "execution_count": 59,
   "metadata": {},
   "outputs": [
    {
     "name": "stdout",
     "output_type": "stream",
     "text": [
      "Attributes of a1: \n",
      " ['T', '__abs__', '__add__', '__and__', '__array__', '__array_finalize__', '__array_function__', '__array_interface__', '__array_prepare__', '__array_priority__', '__array_struct__', '__array_ufunc__', '__array_wrap__', '__bool__', '__class__', '__class_getitem__', '__complex__', '__contains__', '__copy__', '__deepcopy__', '__delattr__', '__delitem__', '__dir__', '__divmod__', '__dlpack__', '__dlpack_device__', '__doc__', '__eq__', '__float__', '__floordiv__', '__format__', '__ge__', '__getattribute__', '__getitem__', '__gt__', '__hash__', '__iadd__', '__iand__', '__ifloordiv__', '__ilshift__', '__imatmul__', '__imod__', '__imul__', '__index__', '__init__', '__init_subclass__', '__int__', '__invert__', '__ior__', '__ipow__', '__irshift__', '__isub__', '__iter__', '__itruediv__', '__ixor__', '__le__', '__len__', '__lshift__', '__lt__', '__matmul__', '__mod__', '__mul__', '__ne__', '__neg__', '__new__', '__or__', '__pos__', '__pow__', '__radd__', '__rand__', '__rdivmod__', '__reduce__', '__reduce_ex__', '__repr__', '__rfloordiv__', '__rlshift__', '__rmatmul__', '__rmod__', '__rmul__', '__ror__', '__rpow__', '__rrshift__', '__rshift__', '__rsub__', '__rtruediv__', '__rxor__', '__setattr__', '__setitem__', '__setstate__', '__sizeof__', '__str__', '__sub__', '__subclasshook__', '__truediv__', '__xor__', 'all', 'any', 'argmax', 'argmin', 'argpartition', 'argsort', 'astype', 'base', 'byteswap', 'choose', 'clip', 'compress', 'conj', 'conjugate', 'copy', 'ctypes', 'cumprod', 'cumsum', 'data', 'diagonal', 'dot', 'dtype', 'dump', 'dumps', 'fill', 'flags', 'flat', 'flatten', 'getfield', 'imag', 'item', 'itemset', 'itemsize', 'max', 'mean', 'min', 'nbytes', 'ndim', 'newbyteorder', 'nonzero', 'partition', 'prod', 'ptp', 'put', 'ravel', 'real', 'repeat', 'reshape', 'resize', 'round', 'searchsorted', 'setfield', 'setflags', 'shape', 'size', 'sort', 'squeeze', 'std', 'strides', 'sum', 'swapaxes', 'take', 'tobytes', 'tofile', 'tolist', 'tostring', 'trace', 'transpose', 'var', 'view']\n"
     ]
    }
   ],
   "source": [
    "print('Attributes of a1: \\n', dir(a1))"
   ]
  },
  {
   "cell_type": "code",
   "execution_count": 60,
   "metadata": {},
   "outputs": [
    {
     "name": "stdout",
     "output_type": "stream",
     "text": [
      "a1 - a2:  [4 3 3]\n"
     ]
    }
   ],
   "source": [
    "print('a1 - a2: ', a1-a2)"
   ]
  },
  {
   "cell_type": "code",
   "execution_count": 61,
   "metadata": {},
   "outputs": [
    {
     "name": "stdout",
     "output_type": "stream",
     "text": [
      "First two elements of a1:  [9 6]\n",
      "Last two elements of a2:  [3 1]\n"
     ]
    }
   ],
   "source": [
    "print('First two elements of a1: ', a1[0:2])\n",
    "print('Last two elements of a2: ', a2[-2:])"
   ]
  },
  {
   "cell_type": "code",
   "execution_count": 62,
   "metadata": {},
   "outputs": [
    {
     "name": "stdout",
     "output_type": "stream",
     "text": [
      "Duration For List comprehension: 3050.6854 ms \n",
      "Duration For Array Construction: 106.6911 ms \n"
     ]
    }
   ],
   "source": [
    "upper_limit = 100000000\n",
    "lst = []\n",
    "tic = time.time()\n",
    "lst = [integer for integer in range(upper_limit)]\n",
    "toc = time.time()\n",
    "print(f\"Duration For List comprehension: {1000*(toc-tic):.4f} ms \")\n",
    "\n",
    "tic = time.time()\n",
    "array_integers = np.arange(0,upper_limit)\n",
    "toc = time.time()\n",
    "print(f\"Duration For Array Construction: {1000*(toc-tic):.4f} ms \")\n"
   ]
  },
  {
   "cell_type": "code",
   "execution_count": 63,
   "metadata": {},
   "outputs": [
    {
     "name": "stdout",
     "output_type": "stream",
     "text": [
      "a1:  [1 7 9]\n",
      "a2:  [7 5 6]\n"
     ]
    }
   ],
   "source": [
    "a1 = np.random.randint(1, 10, 3)\n",
    "print('a1: ', a1)\n",
    "a2 = np.random.randint(1, 10, 3)\n",
    "print('a2: ', a2)"
   ]
  },
  {
   "cell_type": "code",
   "execution_count": 64,
   "metadata": {},
   "outputs": [
    {
     "name": "stdout",
     "output_type": "stream",
     "text": [
      "Exponential of a1:  [2.718e+00 1.097e+03 8.103e+03]\n"
     ]
    }
   ],
   "source": [
    "np.set_printoptions(precision=3)\n",
    "print('Exponential of a1: ', np.exp(a1))"
   ]
  },
  {
   "cell_type": "code",
   "execution_count": 65,
   "metadata": {},
   "outputs": [
    {
     "name": "stdout",
     "output_type": "stream",
     "text": [
      "Square Root of a1:  [1.    2.646 3.   ]\n"
     ]
    }
   ],
   "source": [
    "print('Square Root of a1: ',np.sqrt(a1))"
   ]
  },
  {
   "cell_type": "code",
   "execution_count": 66,
   "metadata": {},
   "outputs": [
    {
     "name": "stdout",
     "output_type": "stream",
     "text": [
      "Cosine of a1:  [ 0.54   0.754 -0.911]\n"
     ]
    }
   ],
   "source": [
    "print('Cosine of a1: ',np.cos(a1))"
   ]
  },
  {
   "cell_type": "code",
   "execution_count": 67,
   "metadata": {},
   "outputs": [],
   "source": [
    "np.set_printoptions(suppress=True)"
   ]
  },
  {
   "cell_type": "code",
   "execution_count": 68,
   "metadata": {},
   "outputs": [
    {
     "name": "stdout",
     "output_type": "stream",
     "text": [
      "A:  [0 1 2 3 4 5 6 7 8 9]\n",
      "Shape of A:  (10,)\n"
     ]
    }
   ],
   "source": [
    "A = np.arange(10)\n",
    "print('A: ', A)\n",
    "print('Shape of A: ', A.shape)"
   ]
  },
  {
   "cell_type": "code",
   "execution_count": 69,
   "metadata": {},
   "outputs": [
    {
     "name": "stdout",
     "output_type": "stream",
     "text": [
      "A_copy: \n",
      " [0 1 2 3]\n",
      "Shape of A_copy: \n",
      " (4,)\n"
     ]
    }
   ],
   "source": [
    "A_copy = A[0:4].copy()\n",
    "print('A_copy: \\n', A_copy)\n",
    "print('Shape of A_copy: \\n', A_copy.shape)"
   ]
  },
  {
   "cell_type": "code",
   "execution_count": 70,
   "metadata": {},
   "outputs": [
    {
     "name": "stdout",
     "output_type": "stream",
     "text": [
      "Shape of A_copy_reshaped: \n",
      " (2, 2)\n",
      "Shape of A_copy: \n",
      " (4,)\n",
      "Shape of A: \n",
      " (10,)\n"
     ]
    }
   ],
   "source": [
    "A_copy_reshaped = A_copy.reshape(2,2)\n",
    "print('Shape of A_copy_reshaped: \\n', A_copy_reshaped.shape)\n",
    "print('Shape of A_copy: \\n', A_copy.shape)\n",
    "print('Shape of A: \\n', A.shape)"
   ]
  },
  {
   "cell_type": "code",
   "execution_count": 71,
   "metadata": {},
   "outputs": [
    {
     "name": "stdout",
     "output_type": "stream",
     "text": [
      "x:  [1 2 3 4]\n"
     ]
    }
   ],
   "source": [
    "x = np.array([1, 2, 3, 4])\n",
    "print('x: ', x)"
   ]
  },
  {
   "cell_type": "code",
   "execution_count": 72,
   "metadata": {},
   "outputs": [
    {
     "name": "stdout",
     "output_type": "stream",
     "text": [
      "y = 7 * x : [ 7 14 21 28]\n"
     ]
    }
   ],
   "source": [
    "# multiply a by a scalar\n",
    "y = 7 * x\n",
    "print(f\"y = 7 * x : {y}\")"
   ]
  },
  {
   "cell_type": "code",
   "execution_count": 73,
   "metadata": {},
   "outputs": [
    {
     "name": "stdout",
     "output_type": "stream",
     "text": [
      "Square of every element in y: [ 49 196 441 784]\n"
     ]
    }
   ],
   "source": [
    "print('Square of every element in y:', y**2)"
   ]
  },
  {
   "cell_type": "code",
   "execution_count": 74,
   "metadata": {},
   "outputs": [
    {
     "name": "stdout",
     "output_type": "stream",
     "text": [
      "Shape of a3:  (2, 3)\n",
      "a3: \n",
      " [[1 2 3]\n",
      " [3 4 5]]\n"
     ]
    }
   ],
   "source": [
    "a3 = np.array([[1, 2, 3], [3, 4, 5]])\n",
    "print('Shape of a3: ', a3.shape)\n",
    "print('a3: \\n', a3)"
   ]
  },
  {
   "cell_type": "code",
   "execution_count": 75,
   "metadata": {},
   "outputs": [
    {
     "name": "stdout",
     "output_type": "stream",
     "text": [
      "Shape of a3_T:  (3, 2)\n",
      "The transpose of a3: \n",
      " [[1 3]\n",
      " [2 4]\n",
      " [3 5]]\n"
     ]
    }
   ],
   "source": [
    "a3_T = a3.transpose()\n",
    "print('Shape of a3_T: ', a3_T.shape)\n",
    "print('The transpose of a3: \\n', a3_T)"
   ]
  },
  {
   "cell_type": "code",
   "execution_count": 76,
   "metadata": {},
   "outputs": [
    {
     "name": "stdout",
     "output_type": "stream",
     "text": [
      "The sum of a1 & a2:  [ 8 12 15]\n"
     ]
    }
   ],
   "source": [
    "print('The sum of a1 & a2: ', a1+a2)"
   ]
  },
  {
   "attachments": {},
   "cell_type": "markdown",
   "metadata": {},
   "source": [
    "## Arrays vs. Lists"
   ]
  },
  {
   "attachments": {},
   "cell_type": "markdown",
   "metadata": {},
   "source": [
    "### Similarities"
   ]
  },
  {
   "cell_type": "markdown",
   "metadata": {},
   "source": [
    "* Both are used for storing data\n",
    "* Both are mutable\n",
    "* Both can be indexed and iterated through\n",
    "* Both can be sliced"
   ]
  },
  {
   "attachments": {},
   "cell_type": "markdown",
   "metadata": {},
   "source": [
    "### Differences "
   ]
  },
  {
   "attachments": {},
   "cell_type": "markdown",
   "metadata": {},
   "source": [
    "The main difference between these two data types is the operation you can perform on them. \n",
    "* Arrays are specially optimised for arithmetic computations so if you’re going to perform similar operations you should consider using an array instead of a list.\n",
    "* Also lists are containers for elements having differing data types but arrays are used as containers for elements of the same data type."
   ]
  },
  {
   "cell_type": "code",
   "execution_count": 4,
   "metadata": {},
   "outputs": [
    {
     "name": "stdout",
     "output_type": "stream",
     "text": [
      "<class 'list'>\n"
     ]
    }
   ],
   "source": [
    "a_list = [1,2,3,4,5] #list\n",
    "print(type(a_list))"
   ]
  },
  {
   "cell_type": "code",
   "execution_count": 5,
   "metadata": {},
   "outputs": [
    {
     "name": "stdout",
     "output_type": "stream",
     "text": [
      "<class 'numpy.ndarray'>\n"
     ]
    }
   ],
   "source": [
    "a_array = np.array(a_list) #convert list to array\n",
    "print(type(a_array))"
   ]
  },
  {
   "cell_type": "code",
   "execution_count": 6,
   "metadata": {},
   "outputs": [
    {
     "name": "stdout",
     "output_type": "stream",
     "text": [
      "[0.5 1.  1.5 2.  2.5]\n"
     ]
    }
   ],
   "source": [
    "x = np.array([1,2,3,4,5]) #array\n",
    "y = x/2\n",
    "print(y)"
   ]
  },
  {
   "cell_type": "code",
   "execution_count": 7,
   "metadata": {},
   "outputs": [
    {
     "name": "stdout",
     "output_type": "stream",
     "text": [
      "[ 2  4  6  8 10]\n"
     ]
    }
   ],
   "source": [
    "w  = 2*x\n",
    "print(w)"
   ]
  },
  {
   "cell_type": "code",
   "execution_count": 8,
   "metadata": {},
   "outputs": [
    {
     "ename": "TypeError",
     "evalue": "unsupported operand type(s) for /: 'list' and 'int'",
     "output_type": "error",
     "traceback": [
      "\u001b[0;31m---------------------------------------------------------------------------\u001b[0m",
      "\u001b[0;31mTypeError\u001b[0m                                 Traceback (most recent call last)",
      "Cell \u001b[0;32mIn[8], line 2\u001b[0m\n\u001b[1;32m      1\u001b[0m z \u001b[39m=\u001b[39m [\u001b[39m1\u001b[39m,\u001b[39m2\u001b[39m,\u001b[39m3\u001b[39m,\u001b[39m4\u001b[39m,\u001b[39m5\u001b[39m] \u001b[39m#list\u001b[39;00m\n\u001b[0;32m----> 2\u001b[0m u \u001b[39m=\u001b[39m z\u001b[39m/\u001b[39;49m\u001b[39m2\u001b[39;49m\n",
      "\u001b[0;31mTypeError\u001b[0m: unsupported operand type(s) for /: 'list' and 'int'"
     ]
    }
   ],
   "source": [
    "z = [1,2,3,4,5] #list: we cannot apply division on lists, this will give an error\n",
    "u = z/2"
   ]
  },
  {
   "cell_type": "code",
   "execution_count": 9,
   "metadata": {},
   "outputs": [
    {
     "name": "stdout",
     "output_type": "stream",
     "text": [
      "[1, 2, 3, 4, 5, 1, 2, 3, 4, 5]\n"
     ]
    }
   ],
   "source": [
    "v = 2*z\n",
    "print(v)"
   ]
  },
  {
   "cell_type": "code",
   "execution_count": 10,
   "metadata": {},
   "outputs": [
    {
     "name": "stdout",
     "output_type": "stream",
     "text": [
      "Element by element multiplication of arrays\n",
      "Method 1:  [ 4 10 18]\n",
      "Method 2:  [ 4 10 18]\n",
      "Dot Product of arrays:  32\n"
     ]
    }
   ],
   "source": [
    "a = np.array([1,2,3])\n",
    "b = np.array([4,5,6])\n",
    "print('Element by element multiplication of arrays')\n",
    "print('Method 1: ', a*b)\n",
    "print('Method 2: ', np.multiply(a,b))\n",
    "print('Dot Product of arrays: ', a@b)\n"
   ]
  },
  {
   "cell_type": "code",
   "execution_count": 11,
   "metadata": {},
   "outputs": [
    {
     "name": "stdout",
     "output_type": "stream",
     "text": [
      "Original list 1 : [1, 2, 3]\n",
      "Original list 2 : [4, 5, 6]\n",
      "Element by Element multiplication of lists : [4, 10, 18]\n"
     ]
    }
   ],
   "source": [
    "test_list1 = [1, 2, 3]\n",
    "test_list2 = [4, 5, 6]\n",
    "  \n",
    "print (\"Original list 1 : \" + str(test_list1))\n",
    "print (\"Original list 2 : \" + str(test_list2))\n",
    "\n",
    "res_list = [test_list1[i] * test_list2[i] for i in range(len(test_list1))]\n",
    "\n",
    "print (\"Element by Element multiplication of lists : \" + str(res_list))"
   ]
  },
  {
   "cell_type": "code",
   "execution_count": 12,
   "metadata": {},
   "outputs": [
    {
     "name": "stdout",
     "output_type": "stream",
     "text": [
      "Dot product of lists:  32\n"
     ]
    }
   ],
   "source": [
    "print('Dot product of lists: ',  sum([x*y for x,y in zip(test_list1,test_list2)]))"
   ]
  },
  {
   "cell_type": "code",
   "execution_count": 13,
   "metadata": {},
   "outputs": [
    {
     "ename": "TypeError",
     "evalue": "unsupported operand type(s) for @: 'list' and 'list'",
     "output_type": "error",
     "traceback": [
      "\u001b[0;31m---------------------------------------------------------------------------\u001b[0m",
      "\u001b[0;31mTypeError\u001b[0m                                 Traceback (most recent call last)",
      "Cell \u001b[0;32mIn[13], line 1\u001b[0m\n\u001b[0;32m----> 1\u001b[0m \u001b[39mprint\u001b[39m(\u001b[39m'\u001b[39m\u001b[39mTesting @ on lists: \u001b[39m\u001b[39m'\u001b[39m, test_list1\u001b[39m@test_list2\u001b[39;49m)\n",
      "\u001b[0;31mTypeError\u001b[0m: unsupported operand type(s) for @: 'list' and 'list'"
     ]
    }
   ],
   "source": [
    "print('Testing @ on lists: ', test_list1@test_list2) #cannot apply @ on lists, this will give an error"
   ]
  },
  {
   "attachments": {},
   "cell_type": "markdown",
   "metadata": {},
   "source": [
    "## Numpy for Matlab users"
   ]
  },
  {
   "attachments": {},
   "cell_type": "markdown",
   "metadata": {},
   "source": [
    "MATLAB and NumPy have a lot in common, but NumPy was created to work with Python. For more references, visit: [Numpy vs. Matlab](https://numpy.org/doc/stable/user/numpy-for-matlab-users.html)"
   ]
  },
  {
   "cell_type": "markdown",
   "metadata": {},
   "source": [
    "* **MATLAB** numbers indices from 1; a(1) is the first element. However, **NumPy**, like Python, numbers indices from 0; a[0] is the first element."
   ]
  },
  {
   "attachments": {},
   "cell_type": "markdown",
   "metadata": {},
   "source": [
    "* [ 1 2 3; 4 5 6 ] in **Matlab**, whereas np.array([[1., 2., 3.], [4., 5., 6.]]) in **Numpy**"
   ]
  },
  {
   "cell_type": "markdown",
   "metadata": {},
   "source": [
    "* a(end) in **Matlab**, whereas a[-1] in **Numpy**"
   ]
  },
  {
   "attachments": {},
   "cell_type": "markdown",
   "metadata": {},
   "source": [
    "* a(2,5) in **Matlab**, whereas a[1, 4] in **Numpy**"
   ]
  },
  {
   "cell_type": "markdown",
   "metadata": {},
   "source": [
    "* a(2,:) in **Matlab**, whereas a[1] or a[1, :] in **Numpy**"
   ]
  },
  {
   "attachments": {},
   "cell_type": "markdown",
   "metadata": {},
   "source": [
    "* a(end-4:end,:) in **Matlab**, whereas a[-5:] in **Numpy**"
   ]
  },
  {
   "attachments": {},
   "cell_type": "markdown",
   "metadata": {},
   "source": [
    "\n",
    "\n",
    "\n",
    "\n",
    "\n",
    "* a.' in **Matlab**, whereas a.transpose() or a.T in **Numpy**\n"
   ]
  },
  {
   "cell_type": "markdown",
   "metadata": {},
   "source": [
    "* a * b in **Matlab**, whereas a @ b in **Numpy**"
   ]
  },
  {
   "attachments": {},
   "cell_type": "markdown",
   "metadata": {},
   "source": [
    "* a.^3 in **Matlab**, whereas a**3 in **Numpy**"
   ]
  },
  {
   "attachments": {},
   "cell_type": "markdown",
   "metadata": {},
   "source": [
    "## Miscelaneous"
   ]
  },
  {
   "cell_type": "code",
   "execution_count": 77,
   "metadata": {},
   "outputs": [],
   "source": [
    "def dot_product_function(a, b): \n",
    "    x=0\n",
    "    for i in range(b.shape[0]):\n",
    "        x = x + a[i] * b[i]\n",
    "    return x"
   ]
  },
  {
   "cell_type": "code",
   "execution_count": 78,
   "metadata": {},
   "outputs": [
    {
     "name": "stdout",
     "output_type": "stream",
     "text": [
      "np.dot(a, b) =  12501467.1511\n",
      "duration of np.dot(a, b): 41.4679 ms \n",
      "dot_product_function =  12501467.1511\n",
      "duration of dot_product_function: 9089.4649 ms \n"
     ]
    }
   ],
   "source": [
    "np.random.seed(1)\n",
    "a = np.random.rand(50000000)\n",
    "b = np.random.rand(50000000)\n",
    "\n",
    "tic = time.time()  # capture start time\n",
    "dot_product_np = np.dot(a, b)\n",
    "toc = time.time()  # capture end time\n",
    "\n",
    "print(f\"np.dot(a, b) =  {dot_product_np:.4f}\")\n",
    "#Vector Notation\n",
    "print(f\"duration of np.dot(a, b): {1000*(toc-tic):.4f} ms \")\n",
    "\n",
    "# capture start time\n",
    "tic = time.time()  \n",
    "c = dot_product_function(a,b)\n",
    "# capture end time\n",
    "toc = time.time()  \n",
    "\n",
    "print(f\"dot_product_function =  {c:.4f}\")\n",
    "print(f\"duration of dot_product_function: {1000*(toc-tic):.4f} ms \")\n",
    "\n",
    "del(a);del(b)  #remove these big arrays from memory"
   ]
  },
  {
   "cell_type": "code",
   "execution_count": 79,
   "metadata": {},
   "outputs": [
    {
     "name": "stdout",
     "output_type": "stream",
     "text": [
      "Maximum of A is:  20\n",
      "Minimum of A is:  1\n"
     ]
    }
   ],
   "source": [
    "A = np.array([[4, 20],[10, 1]])\n",
    "print('Maximum of A is: ', A.max())\n",
    "print('Minimum of A is: ', A.min())"
   ]
  },
  {
   "cell_type": "code",
   "execution_count": 80,
   "metadata": {},
   "outputs": [
    {
     "name": "stdout",
     "output_type": "stream",
     "text": [
      "Determinant of A: -196.00\n"
     ]
    }
   ],
   "source": [
    "print('Determinant of A: {:.2f}'.format(np.linalg.det(A)))"
   ]
  },
  {
   "cell_type": "code",
   "execution_count": 81,
   "metadata": {},
   "outputs": [
    {
     "name": "stdout",
     "output_type": "stream",
     "text": [
      "Inverse of A: \n",
      " [[-0.005  0.102]\n",
      " [ 0.051 -0.02 ]]\n"
     ]
    }
   ],
   "source": [
    "print('Inverse of A: \\n', np.linalg.inv(A))"
   ]
  },
  {
   "cell_type": "code",
   "execution_count": 82,
   "metadata": {},
   "outputs": [
    {
     "name": "stdout",
     "output_type": "stream",
     "text": [
      "The shape of A is:  (2, 2)\n",
      "The shape of B is:  (2, 2)\n"
     ]
    }
   ],
   "source": [
    "B = np.array([[4, 1],[2, 2]])\n",
    "print('The shape of A is: ', A.shape)\n",
    "print('The shape of B is: ', B.shape)\n",
    "assert A.shape[1] == B.shape[0], f'AB is not defined'"
   ]
  },
  {
   "cell_type": "code",
   "execution_count": 83,
   "metadata": {},
   "outputs": [
    {
     "name": "stdout",
     "output_type": "stream",
     "text": [
      "The matrix product of A & B: \n",
      " [[56 44]\n",
      " [42 12]]\n"
     ]
    }
   ],
   "source": [
    "C = np.matmul(A,B)\n",
    "print('The matrix product of A & B: \\n', C)"
   ]
  },
  {
   "cell_type": "code",
   "execution_count": 84,
   "metadata": {},
   "outputs": [
    {
     "name": "stdout",
     "output_type": "stream",
     "text": [
      "[[ True  True]\n",
      " [ True False]]\n"
     ]
    }
   ],
   "source": [
    "bool_flag = C> 20\n",
    "print(bool_flag)"
   ]
  },
  {
   "cell_type": "code",
   "execution_count": 85,
   "metadata": {},
   "outputs": [
    {
     "data": {
      "text/plain": [
       "array([56, 44, 42])"
      ]
     },
     "execution_count": 85,
     "metadata": {},
     "output_type": "execute_result"
    }
   ],
   "source": [
    "D = C[bool_flag]\n",
    "D"
   ]
  },
  {
   "cell_type": "markdown",
   "metadata": {},
   "source": [
    "## Pointer behavior: Shallow copy vs deep copy"
   ]
  },
  {
   "cell_type": "code",
   "execution_count": 86,
   "metadata": {},
   "outputs": [
    {
     "name": "stdout",
     "output_type": "stream",
     "text": [
      "a = [0 1 2]\n",
      "b = [0 1 2]\n",
      "a = [100   1   2]\n",
      "b = [100   1   2]\n"
     ]
    }
   ],
   "source": [
    "# Shallow copy\n",
    "a = np.arange(3)\n",
    "print('a = {0}'.format(a))\n",
    "b = a\n",
    "print('b = {0}'.format(b))\n",
    "a[0] = 100\n",
    "print('a = {0}'.format(a))\n",
    "print('b = {0}'.format(b))"
   ]
  },
  {
   "cell_type": "code",
   "execution_count": 87,
   "metadata": {},
   "outputs": [
    {
     "name": "stdout",
     "output_type": "stream",
     "text": [
      "a = [55  1  2]\n",
      "c = [100.   1.   2.]\n",
      "d = [100   1   2]\n"
     ]
    }
   ],
   "source": [
    "# Deep copy\n",
    "c = np.zeros(len(a)) #initialize a\n",
    "c[:] = a[:]\n",
    "d = np.copy(a)\n",
    "a[0] = 55\n",
    "print('a = {0}'.format(a))\n",
    "print('c = {0}'.format(c))\n",
    "print('d = {0}'.format(d))"
   ]
  },
  {
   "cell_type": "markdown",
   "metadata": {},
   "source": [
    "## Plotting"
   ]
  },
  {
   "cell_type": "code",
   "execution_count": 88,
   "metadata": {},
   "outputs": [
    {
     "data": {
      "image/png": "[encoded data removed]",
      "text/plain": [
       "<Figure size 640x480 with 1 Axes>"
      ]
     },
     "metadata": {},
     "output_type": "display_data"
    }
   ],
   "source": [
    "x= np.arange(0, 10, 0.01)\n",
    "# corresponding y axis values\n",
    "y = np.cos(x)\n",
    "z = np.sin(x)\n",
    "# plotting the points \n",
    "plt.plot(x, y, color='green',label = 'Cosine')\n",
    "plt.plot(x, z, color='blue', label = 'Sine')\n",
    "# function to show the plot\n",
    "plt.xlabel('x', fontsize=12)\n",
    "plt.ylabel('y', fontsize=12)\n",
    "plt.title('Cosine & Sine plots', fontsize=16)\n",
    "plt.legend()\n",
    "plt.show()"
   ]
  }
 ],
 "metadata": {
  "kernelspec": {
   "display_name": "Python 3",
   "language": "python",
   "name": "python3"
  },
  "language_info": {
   "codemirror_mode": {
    "name": "ipython",
    "version": 3
   },
   "file_extension": ".py",
   "mimetype": "text/x-python",
   "name": "python",
   "nbconvert_exporter": "python",
   "pygments_lexer": "ipython3",
   "version": "3.8.12 | packaged by conda-forge | (default, Sep 29 2021, 19:21:23) \n[Clang 11.1.0 ]"
  },
  "orig_nbformat": 4,
  "vscode": {
   "interpreter": {
    "hash": "6200758b7673adf34ae50bfa4217006f2c557feffe45080c236eaee64db53788"
   }
  }
 },
 "nbformat": 4,
 "nbformat_minor": 2
}
