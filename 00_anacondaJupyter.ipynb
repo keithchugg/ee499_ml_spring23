{
 "cells": [
  {
   "attachments": {},
   "cell_type": "markdown",
   "metadata": {},
   "source": [
    "**Instructors**: Prof. Keith Chugg (chugg@usc.edu) & Prof. Antonio Ortega (aortega@usc.edu)\n",
    "\n",
    "**Teaching Assistant**: Alexios Rustom (arustom@usc.edu)\n",
    "\n",
    "**Notebooks**: Written by Alexios Rustom (arustom@usc.edu) and Prof. Keith Chugg (chugg@usc.edu)"
   ]
  },
  {
   "cell_type": "markdown",
   "metadata": {},
   "source": [
    "# Anaconda & Environments & Jupyter Notebook"
   ]
  },
  {
   "attachments": {},
   "cell_type": "markdown",
   "metadata": {},
   "source": [
    "\n",
    "1. A 64-bit Anaconda version can be downloaded from: [Anaconda](https://www.anaconda.com)\n",
    "    * Anaconda is a package manager tool. Downloaded libraries and packages are confined to environments, and Anaconda prevents conflicts between packages of different projects\n",
    "    * Anaconda needs to be the default python tool in the installation prompt\n",
    "    * **Anaconda should be added to PATH** for Windows Users\n",
    "\n",
    "\n",
    "    * **ALTERNATIVE:** Anaconda install most packages you would ever need, but it takes a lot of disk space.  You can install [miniconda](https://docs.conda.io/en/latest/miniconda.html) instead.  \n",
    "      * Install miniconda using the bash scripts from the above link.\n",
    "      * Set up a virtual environment for the class as described below.\n",
    "\n",
    "<br/>\n",
    "\n",
    "1. Once the download is complete:\n",
    "    * For **Linux and Mac users**, open the standard terminal integrated in your system\n",
    "    * For **Windows** users, use the Anaconda Prompt Terminal\n",
    "\n",
    "<br/>\n",
    "\n",
    "3. Create a new environment using: \n",
    "    * conda create --name <b>ENVNAME</b> python=<b>PythonVersion</b>. Example: conda create --name <b>ML</b> python=<b>3.9</b>\n",
    "\n",
    "<br/>\n",
    "\n",
    "4. Environment activation/deactivation using:\n",
    "    * Activation: conda activate <b>ENVNAME</b>. Example: conda activate <b>ML</b>\n",
    "    * Deactivation: conda deactivate\n",
    "    * For more information about environments: [Managing Enviroments](https://conda.io/projects/conda/en/latest/user-guide/tasks/manage-environments.html)\n",
    "\n",
    "<br/>\n",
    "\n",
    "5. Jupyter notebook Installation using:\n",
    "    * conda install jupyter\n",
    "\n",
    "<br/>\n",
    "\n",
    "6. Common useful packages relevant to Machine Learning:\n",
    "    * <b>Python Data Analysis Library:</b> conda install pandas\n",
    "    * <b> Visualization with Python: </b> conda install matplotlib\n",
    "    * <b> Machine Learning in Python: </b> conda install scikit-learn. Note that <b>numpy</b> & <b>scipy</b>, useful linear algebra and statistics tools, are installed with <b>scikit-learn</b>.\n",
    "\n",
    "<br/>\n",
    "\n",
    "7. Open Jupyter notebook:\n",
    "    * Navigate in the terminal to your desired working directory\n",
    "    * In the console, enter: <b> jupyter notebook</b>\n",
    "    * For more information about Jupyter Notebook: [Jupyter Notebook Guide](https://www.dataquest.io/blog/jupyter-notebook-tutorial/)\n",
    "\n",
    "\n",
    "    * **ALTERNATIVE:** install [Microsft VS Code](https://code.visualstudio.com) -- this is an excellent and popular integrated development environemnt (IDE).\n",
    "      * You can open a notebook directly in MS Code.\n",
    "      * Make sure that your python environment is specified to the virtual env that you need for the notebook.\n",
    "\n",
    "<br/>\n"
   ]
  },
  {
   "cell_type": "markdown",
   "metadata": {},
   "source": [
    "# Importing Libraries\n",
    "\n",
    "Libraries are publicly available repositories of code. You will need to import them into your projects using the <b>import</b> keyword. Libraries can also be given an aliad using the <b>as</b> keyword."
   ]
  },
  {
   "cell_type": "code",
   "execution_count": 1,
   "metadata": {},
   "outputs": [],
   "source": [
    "import numpy as np\n",
    "import pandas as pd\n",
    "import seaborn as sns\n",
    "import matplotlib.pyplot as plt\n",
    "from sklearn.linear_model import LinearRegression as LinReg"
   ]
  },
  {
   "attachments": {},
   "cell_type": "markdown",
   "metadata": {},
   "source": [
    "## Setting up a Virtual Envornment for EE499\n",
    "Using virtual environments is a good idea with Python.  This is because, as an open source platform, Python and the related libraries are ever-evolving.  You may come across some code that you would like to use, but it is several years old and may require an older version of Python or associated libraries.  Instead of debugging the differences between Python library versions, you can set up a virtual environment that matches all the versions that were used with the code.\n",
    "\n",
    "We suggest that you create a virtual environment for EE499 and below are the steps to do so."
   ]
  },
  {
   "cell_type": "markdown",
   "metadata": {},
   "source": []
  },
  {
   "attachments": {},
   "cell_type": "markdown",
   "metadata": {},
   "source": [
    "## EE499 Virtual Environment\n",
    "\n",
    "We have a series of jupyter notebooks that we plan to use for the class.  Below are the packages and install commands needed to support these notebooks.\n",
    "\n",
    "Note: as the semester progresses, we may add/modify notebooks in a way that may require additional libraries.\n",
    "\n",
    "### Install Dependencies as Neeeded\n",
    "To run the very first notebooks, you will need the following:\n",
    "\n",
    "**Create a new virtual environment:**\n",
    "\n",
    "```conda create --name ML python=3.9```\n",
    "\n",
    "This creates the virtual env `ML` -- choose any name you like.  Next, activate this environment:\n",
    "\n",
    "```conda activate ML```\n",
    "\n",
    "Next, install some common libraries into this virtual env (make sure that you are in this env before installing - you want to avoid installing packages into your ``base'' conda environment):\n",
    "\n",
    "```\n",
    "conda install numpy\n",
    "conda install pandas\n",
    "conda install seaborn\n",
    "conda install matplotlib\n",
    "conda install scikit-learn\n",
    "python -m pip install jupyter notebook -U\n",
    "conda install -n ML ipykernel --update-deps --force-reinstall\n",
    "```\n",
    "\n",
    "An optional step is to add the [Jupyter Qt Console](https://qtconsole.readthedocs.io/en/stable/):\n",
    "\n",
    "```conda install qtconsole```\n",
    "\n",
    "The above will allow you to run the notbeooks we plan to use up to, but not including `dataLoadingGenerationVisualization.ipynb`.  To run this one, you need to run the following:\n",
    "\n",
    "```\n",
    "mkdir generatedData\n",
    "conda install openpyxl\n",
    "conda install -c conda-forge xlsxwriter\n",
    "conda install -c anaconda h5py\n",
    "```\n",
    "\n",
    "The above will allow you to run the notbeooks we plan to use up to, but not including `mathematicalOptimization.ipynb`.  To run this one, you need to run the following:\n",
    "\n",
    "```conda install -c conda-forge autograd```\n",
    "\n",
    "Finally, to run ```fullyConnectedNeuralNetworks.ipynb```, you will need:\n",
    "\n",
    "```\n",
    "conda install -c pytorch pytorch\n",
    "pip install torchvision\n",
    "```"
   ]
  },
  {
   "attachments": {},
   "cell_type": "markdown",
   "metadata": {},
   "source": []
  },
  {
   "attachments": {},
   "cell_type": "markdown",
   "metadata": {},
   "source": [
    "### Install Dependencies as Neeeded\n",
    "If you want to install all the dependencies you need up front, then after creating your virtual env and activating it, run these commands at the CLI:\n",
    "\n",
    "```\n",
    "conda install numpy\n",
    "conda install pandas\n",
    "conda install seaborn\n",
    "conda install matplotlib\n",
    "conda install scikit-learn\n",
    "python -m pip install jupyter notebook -U\n",
    "conda install -n ML ipykernel --update-deps --force-reinstall\n",
    "mkdir generatedData\n",
    "conda install openpyxl\n",
    "conda install -c conda-forge xlsxwriter\n",
    "conda install -c anaconda h5py\n",
    "conda install -c conda-forge autograd\n",
    "conda install -c pytorch pytorch\n",
    "pip install torchvision\n",
    "```\n",
    "\n",
    "You can do this by copiying the above text and saving it into a file -- say `create_ml.sh` -- then at the CLI, type `bash create_ml.sh`.  This will run all of the commands in sequence."
   ]
  },
  {
   "cell_type": "markdown",
   "metadata": {},
   "source": []
  }
 ],
 "metadata": {
  "kernelspec": {
   "display_name": "FBA",
   "language": "python",
   "name": "python3"
  },
  "language_info": {
   "codemirror_mode": {
    "name": "ipython",
    "version": 3
   },
   "file_extension": ".py",
   "mimetype": "text/x-python",
   "name": "python",
   "nbconvert_exporter": "python",
   "pygments_lexer": "ipython3",
   "version": "3.9.7 (default, Sep 16 2021, 08:50:36) \n[Clang 10.0.0 ]"
  },
  "orig_nbformat": 4,
  "vscode": {
   "interpreter": {
    "hash": "187d0b97bdb7c262d120320963c609ea5e632bc27ed1ec3112d14a83e1efc180"
   }
  }
 },
 "nbformat": 4,
 "nbformat_minor": 2
}
